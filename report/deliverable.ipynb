{
 "cells": [
  {
   "attachments": {},
   "cell_type": "markdown",
   "metadata": {},
   "source": [
    "## Final Report:\n",
    "# Control of a Robotic Vacuum Cleaner\n",
    "\n",
    "Deep Reinforcement Learning (EE 373/473), Spring 2023, Northwestern University.  \n",
    "Klemens Iten, KlemensIten2023@u.northwestern.edu"
   ]
  },
  {
   "attachments": {},
   "cell_type": "markdown",
   "metadata": {},
   "source": [
    "### Introduction\n",
    "\n",
    "Robotic vacuum cleaners have become a stadard feature in many homes. \n",
    "Its objective is to clean all surfaces in a room as afficiently as possible. For this project, a\n",
    "rectangular room without any obstacles is assumed for simplicity’s sake. \n",
    "\n",
    "This\n",
    "objective with the given system can be modeled as an episodic markov decision process\n",
    "(MDP):\n",
    "\n",
    "From a set initial state (charging port), the robotic vacuum cleaner gets positive rewards\n",
    "for cleaning dirty surfaces (i.e. everytime it visits a new state) and negative rewards for recleaning\n",
    "previously cleaned surfaces (i.e. states it has visited before). Additionally, a smaller\n",
    "negative reward can be used to penalize time or battery usage. The episode ends after the\n",
    "whole room is cleaned (all states visited, large positive terminal reward) or if the battery\n",
    "runs out (after some fixed time, large negative terminal reward).\n",
    "\n",
    "\n",
    "<p align=\"center\">\n",
    "  <img width=\"460\" src=\"springer.jpg\">\n",
    "  < Two Examples for so-called differential drive robots. Reprinted from [1]\n",
    "</p>"
   ]
  },
  {
   "cell_type": "code",
   "execution_count": 1,
   "metadata": {},
   "outputs": [
    {
     "name": "stdout",
     "output_type": "stream",
     "text": [
      "Hi!\n"
     ]
    }
   ],
   "source": [
    "print(\"Hi!\")"
   ]
  },
  {
   "cell_type": "code",
   "execution_count": null,
   "metadata": {},
   "outputs": [],
   "source": []
  }
 ],
 "metadata": {
  "kernelspec": {
   "display_name": "Python 3",
   "language": "python",
   "name": "python3"
  },
  "language_info": {
   "codemirror_mode": {
    "name": "ipython",
    "version": 3
   },
   "file_extension": ".py",
   "mimetype": "text/x-python",
   "name": "python",
   "nbconvert_exporter": "python",
   "pygments_lexer": "ipython3",
   "version": "3.10.11"
  },
  "orig_nbformat": 4
 },
 "nbformat": 4,
 "nbformat_minor": 2
}
